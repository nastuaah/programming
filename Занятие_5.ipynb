{
  "nbformat": 4,
  "nbformat_minor": 0,
  "metadata": {
    "colab": {
      "provenance": [],
      "authorship_tag": "ABX9TyMHRlgpXY19lCRUBMYQwcJh",
      "include_colab_link": true
    },
    "kernelspec": {
      "name": "python3",
      "display_name": "Python 3"
    },
    "language_info": {
      "name": "python"
    }
  },
  "cells": [
    {
      "cell_type": "markdown",
      "metadata": {
        "id": "view-in-github",
        "colab_type": "text"
      },
      "source": [
        "<a href=\"https://colab.research.google.com/github/nastuaah/programming/blob/master/%D0%97%D0%B0%D0%BD%D1%8F%D1%82%D0%B8%D0%B5_5.ipynb\" target=\"_parent\"><img src=\"https://colab.research.google.com/assets/colab-badge.svg\" alt=\"Open In Colab\"/></a>"
      ]
    },
    {
      "cell_type": "code",
      "execution_count": 4,
      "metadata": {
        "colab": {
          "base_uri": "https://localhost:8080/"
        },
        "id": "wOkvo-o4PUA1",
        "outputId": "b5d9b090-e647-42e7-9108-dcd27fb35c01"
      },
      "outputs": [
        {
          "output_type": "stream",
          "name": "stdout",
          "text": [
            "Введите число: 16\n",
            "[1, 2, 4, 8, 16]\n"
          ]
        }
      ],
      "source": [
        "#@title Делители while\n",
        "number=int(input(\"Введите число: \"))\n",
        "n=1\n",
        "r=[]\n",
        "while n<=number:\n",
        "  if number%n==0:\n",
        "    r.append(n)\n",
        "  n+=1\n",
        "print(r)    "
      ]
    },
    {
      "cell_type": "code",
      "source": [
        "#@title Делители for\n",
        "number=int(input(\"Введите число: \"))\n",
        "r=[]\n",
        "for n in range(1,number+1):\n",
        "  if number%n==0:\n",
        "    r.append(n)\n",
        "  n+=1\n",
        "print(r)    "
      ],
      "metadata": {
        "colab": {
          "base_uri": "https://localhost:8080/"
        },
        "id": "ZEGV2rhpSdRT",
        "outputId": "5656cae3-c5f0-449d-aa37-99eaa9a7f0aa"
      },
      "execution_count": 10,
      "outputs": [
        {
          "output_type": "stream",
          "name": "stdout",
          "text": [
            "Введите число: 16\n",
            "[1, 2, 4, 8, 16]\n"
          ]
        }
      ]
    },
    {
      "cell_type": "code",
      "source": [
        "#@title Контрольное задание\n",
        "print(\"KPH\", \"MPH\")\n",
        "for kph in range(60,131,10):\n",
        "  mph=kph*0.6214  \n",
        "  print(kph,mph)"
      ],
      "metadata": {
        "colab": {
          "base_uri": "https://localhost:8080/"
        },
        "id": "FEJpQvgvTeRk",
        "outputId": "b773cc9f-cffd-4dba-848f-aba46155c685"
      },
      "execution_count": 13,
      "outputs": [
        {
          "output_type": "stream",
          "name": "stdout",
          "text": [
            "KPH MPH\n",
            "60 37.284\n",
            "70 43.498\n",
            "80 49.711999999999996\n",
            "90 55.925999999999995\n",
            "100 62.13999999999999\n",
            "110 68.354\n",
            "120 74.568\n",
            "130 80.782\n"
          ]
        }
      ]
    },
    {
      "cell_type": "code",
      "source": [
        "#@title Задание 1\n",
        "N=int(input(\"Введите целое число: \"))\n",
        "for K in range (1,N+1):\n",
        "  m=K**2\n",
        "  if m<=N:\n",
        "    print(m)\n"
      ],
      "metadata": {
        "colab": {
          "base_uri": "https://localhost:8080/"
        },
        "id": "L_MZNtZGU6Rv",
        "outputId": "6490e736-5483-420e-f38a-83a25d4e0be6"
      },
      "execution_count": 16,
      "outputs": [
        {
          "output_type": "stream",
          "name": "stdout",
          "text": [
            "Введите целое число: 28\n",
            "1\n",
            "4\n",
            "9\n",
            "16\n",
            "25\n"
          ]
        }
      ]
    },
    {
      "cell_type": "code",
      "source": [
        "#@title Задание 2\n",
        "N=int(input(\"Введите целое число, не превосходящее 1000: \"))\n",
        "A=[]\n",
        "for i in range(N):\n",
        "  A.append(int(input(\"Введите N элементов массива: \")))\n",
        "print(A)\n",
        "max=A[0]\n",
        "for i in range (N):\n",
        "  if i<i+1:\n",
        "    max=A[i]\n",
        "print(max)"
      ],
      "metadata": {
        "colab": {
          "base_uri": "https://localhost:8080/"
        },
        "id": "lTpB3H7WWymA",
        "outputId": "076e2777-ee69-4139-ead8-3c9e1fb6e379"
      },
      "execution_count": 38,
      "outputs": [
        {
          "output_type": "stream",
          "name": "stdout",
          "text": [
            "Введите целое число, не превосходящее 1000: 4\n",
            "Введите N элементов массива: 3\n",
            "Введите N элементов массива: 4\n",
            "Введите N элементов массива: 5\n",
            "Введите N элементов массива: 6\n",
            "[3, 4, 5, 6]\n",
            "6\n"
          ]
        }
      ]
    },
    {
      "cell_type": "code",
      "source": [
        "#@title Задание 3\n",
        "N=int(input(\"Введите количество элементов массива: \"))\n",
        "A=[]\n",
        "for i in range(N):\n",
        "  A.append(int(input(\"Введите N элементов массива: \")))\n",
        "print(A)\n",
        "k=0\n",
        "for i in range (len(A)-1):\n",
        "  if A[i]%2==0:\n",
        "    k+=1\n",
        "print(k)    \n",
        "\n"
      ],
      "metadata": {
        "colab": {
          "base_uri": "https://localhost:8080/"
        },
        "id": "ZgtSIjKua3gu",
        "outputId": "dc41df32-257d-448d-f07c-14c3ef80b26b"
      },
      "execution_count": 49,
      "outputs": [
        {
          "output_type": "stream",
          "name": "stdout",
          "text": [
            "Введите количество элементов массива: 4\n",
            "Введите N элементов массива: 1\n",
            "Введите N элементов массива: 2\n",
            "Введите N элементов массива: 3\n",
            "Введите N элементов массива: 0\n",
            "[1, 2, 3, 0]\n",
            "1\n"
          ]
        }
      ]
    },
    {
      "cell_type": "code",
      "source": [
        "#@title Задание 1\n",
        "n=int(input(\"Введите количество елочек: \"))\n",
        "for i in range (n):\n",
        "  print(\"   *   \")\n",
        "  print(\"  ***  \")\n",
        "  print(\" ***** \")\n",
        "  print(\"*******\")\n",
        "  print(\"   |   \")\n"
      ],
      "metadata": {
        "colab": {
          "base_uri": "https://localhost:8080/"
        },
        "id": "U2edd-WXc5r8",
        "outputId": "ba9a4893-03e7-49cf-d9f4-880fd93fb9b0"
      },
      "execution_count": 52,
      "outputs": [
        {
          "output_type": "stream",
          "name": "stdout",
          "text": [
            "Введите количество елочек: 2\n",
            "   *\n",
            "  ***\n",
            " *****\n",
            "*******\n",
            "   |\n",
            "   *\n",
            "  ***\n",
            " *****\n",
            "*******\n",
            "   |\n"
          ]
        }
      ]
    },
    {
      "cell_type": "code",
      "source": [
        "#@title Задание 2 / шахматы\n",
        "n, m = map(int, input().split())\n",
        "A = [[(i+j+1)%2 for j in range(m)] for i in range (n)]\n",
        "for i in range(n):\n",
        "  for j in range (m):\n",
        "    print(A[i][j], end = '')\n",
        "  print()  "
      ],
      "metadata": {
        "colab": {
          "base_uri": "https://localhost:8080/"
        },
        "id": "CkSB70E9duMy",
        "outputId": "67042061-72fd-4c78-ae14-00f5141e323d"
      },
      "execution_count": 14,
      "outputs": [
        {
          "output_type": "stream",
          "name": "stdout",
          "text": [
            "3 4\n",
            "1010\n",
            "0101\n",
            "1010\n"
          ]
        }
      ]
    },
    {
      "cell_type": "code",
      "source": [
        "#@title Задание 3\n",
        "n, m = map(int, input().split())\n",
        "A = [[(i*n+j+1) for j in range(m)] for i in range(n)]\n",
        "for i in range(n):\n",
        "  for j in range (m):\n",
        "    print(A[i][j], end = '')\n",
        "  print()  "
      ],
      "metadata": {
        "colab": {
          "base_uri": "https://localhost:8080/"
        },
        "id": "tMtRp8CypnLr",
        "outputId": "5a28092b-b0cd-4159-bf3a-61a95ee6aa23"
      },
      "execution_count": 23,
      "outputs": [
        {
          "output_type": "stream",
          "name": "stdout",
          "text": [
            "5 6\n",
            "123456\n",
            "67891011\n",
            "111213141516\n",
            "161718192021\n",
            "212223242526\n"
          ]
        }
      ]
    },
    {
      "cell_type": "code",
      "source": [
        "#@title Задание 4\n",
        "n, m = map(int, input().split())\n",
        "A = [[(i+j*n) for j in range(m)] for i in range(n)]\n",
        "for i in range(n):\n",
        "  for j in range (m):\n",
        "    print(A[i][j], end = '')\n",
        "  print()  "
      ],
      "metadata": {
        "colab": {
          "base_uri": "https://localhost:8080/"
        },
        "id": "qkhSAhsI3kvH",
        "outputId": "083985d6-afee-4419-e7da-3b74fa4bc718"
      },
      "execution_count": 27,
      "outputs": [
        {
          "output_type": "stream",
          "name": "stdout",
          "text": [
            "5 6\n",
            "0510152025\n",
            "1611162126\n",
            "2712172227\n",
            "3813182328\n",
            "4914192429\n"
          ]
        }
      ]
    }
  ]
}