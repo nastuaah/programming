{
  "nbformat": 4,
  "nbformat_minor": 0,
  "metadata": {
    "colab": {
      "provenance": [],
      "authorship_tag": "ABX9TyM3UBtQQsesuIyE3dTPNp/H",
      "include_colab_link": true
    },
    "kernelspec": {
      "name": "python3",
      "display_name": "Python 3"
    },
    "language_info": {
      "name": "python"
    }
  },
  "cells": [
    {
      "cell_type": "markdown",
      "metadata": {
        "id": "view-in-github",
        "colab_type": "text"
      },
      "source": [
        "<a href=\"https://colab.research.google.com/github/nastuaah/programming/blob/master/%D0%97%D0%B0%D0%BD%D1%8F%D1%82%D0%B8%D0%B5_5.ipynb\" target=\"_parent\"><img src=\"https://colab.research.google.com/assets/colab-badge.svg\" alt=\"Open In Colab\"/></a>"
      ]
    },
    {
      "cell_type": "code",
      "execution_count": 4,
      "metadata": {
        "colab": {
          "base_uri": "https://localhost:8080/"
        },
        "id": "wOkvo-o4PUA1",
        "outputId": "b5d9b090-e647-42e7-9108-dcd27fb35c01"
      },
      "outputs": [
        {
          "output_type": "stream",
          "name": "stdout",
          "text": [
            "Введите число: 16\n",
            "[1, 2, 4, 8, 16]\n"
          ]
        }
      ],
      "source": [
        "#@title Делители while\n",
        "number=int(input(\"Введите число: \"))\n",
        "n=1\n",
        "r=[]\n",
        "while n<=number:\n",
        "  if number%n==0:\n",
        "    r.append(n)\n",
        "  n+=1\n",
        "print(r)    "
      ]
    },
    {
      "cell_type": "code",
      "source": [
        "#@title Делители for\n",
        "number=int(input(\"Введите число: \"))\n",
        "r=[]\n",
        "for n in range(1,number+1):\n",
        "  if number%n==0:\n",
        "    r.append(n)\n",
        "  n+=1\n",
        "print(r)    "
      ],
      "metadata": {
        "colab": {
          "base_uri": "https://localhost:8080/"
        },
        "id": "ZEGV2rhpSdRT",
        "outputId": "5656cae3-c5f0-449d-aa37-99eaa9a7f0aa"
      },
      "execution_count": 10,
      "outputs": [
        {
          "output_type": "stream",
          "name": "stdout",
          "text": [
            "Введите число: 16\n",
            "[1, 2, 4, 8, 16]\n"
          ]
        }
      ]
    },
    {
      "cell_type": "code",
      "source": [
        "#@title Контрольное задание\n",
        "print(\"KPH\", \"MPH\")\n",
        "for kph in range(60,131,10):\n",
        "  mph=kph*0.6214  \n",
        "  print(kph,mph)"
      ],
      "metadata": {
        "colab": {
          "base_uri": "https://localhost:8080/"
        },
        "id": "FEJpQvgvTeRk",
        "outputId": "ca9c683f-684d-44f2-e273-7399606b9bed"
      },
      "execution_count": 29,
      "outputs": [
        {
          "output_type": "stream",
          "name": "stdout",
          "text": [
            "KPH MPH\n",
            "60 37.284\n",
            "70 43.498\n",
            "80 49.711999999999996\n",
            "90 55.925999999999995\n",
            "100 62.13999999999999\n",
            "110 68.354\n",
            "120 74.568\n",
            "130 80.782\n"
          ]
        }
      ]
    },
    {
      "cell_type": "code",
      "source": [
        "#@title Задание 1\n",
        "N=int(input(\"Введите целое число: \"))\n",
        "for K in range (1,N+1):\n",
        "  m=K**2\n",
        "  if m<=N:\n",
        "    print(m)\n"
      ],
      "metadata": {
        "colab": {
          "base_uri": "https://localhost:8080/"
        },
        "id": "L_MZNtZGU6Rv",
        "outputId": "6490e736-5483-420e-f38a-83a25d4e0be6"
      },
      "execution_count": 16,
      "outputs": [
        {
          "output_type": "stream",
          "name": "stdout",
          "text": [
            "Введите целое число: 28\n",
            "1\n",
            "4\n",
            "9\n",
            "16\n",
            "25\n"
          ]
        }
      ]
    },
    {
      "cell_type": "code",
      "source": [
        "#@title Задание 2\n",
        "N=int(input(\"Введите целое число, не превосходящее 1000: \"))\n",
        "A=[]\n",
        "for i in range(N):\n",
        "  A.append(int(input(\"Введите N элементов массива: \")))\n",
        "print(A)\n",
        "max=A[0]\n",
        "for i in range (N):\n",
        "  if i<i+1:\n",
        "    max=A[i]\n",
        "print(max)"
      ],
      "metadata": {
        "colab": {
          "base_uri": "https://localhost:8080/"
        },
        "id": "lTpB3H7WWymA",
        "outputId": "076e2777-ee69-4139-ead8-3c9e1fb6e379"
      },
      "execution_count": 38,
      "outputs": [
        {
          "output_type": "stream",
          "name": "stdout",
          "text": [
            "Введите целое число, не превосходящее 1000: 4\n",
            "Введите N элементов массива: 3\n",
            "Введите N элементов массива: 4\n",
            "Введите N элементов массива: 5\n",
            "Введите N элементов массива: 6\n",
            "[3, 4, 5, 6]\n",
            "6\n"
          ]
        }
      ]
    },
    {
      "cell_type": "code",
      "source": [
        "#@title Задание 3\n",
        "N=int(input(\"Введите количество элементов массива: \"))\n",
        "A=[]\n",
        "for i in range(N):\n",
        "  A.append(int(input(\"Введите N элементов массива: \")))\n",
        "print(A)\n",
        "k=0\n",
        "for i in range (len(A)-1):\n",
        "  if A[i]%2==0:\n",
        "    k+=1\n",
        "print(k)    \n",
        "\n"
      ],
      "metadata": {
        "colab": {
          "base_uri": "https://localhost:8080/"
        },
        "id": "ZgtSIjKua3gu",
        "outputId": "fcc78cd9-a44e-42a4-a84c-13915b5b85f9"
      },
      "execution_count": 30,
      "outputs": [
        {
          "output_type": "stream",
          "name": "stdout",
          "text": [
            "Введите количество элементов массива: 4\n",
            "Введите N элементов массива: 2\n",
            "Введите N элементов массива: 2\n",
            "Введите N элементов массива: 4\n",
            "Введите N элементов массива: 0\n",
            "[2, 2, 4, 0]\n",
            "3\n"
          ]
        }
      ]
    },
    {
      "cell_type": "code",
      "source": [
        "#@title Задание 1\n",
        "n=int(input(\"Введите количество елочек: \"))\n",
        "for i in range (n):\n",
        "  print(\"   *   \")\n",
        "  print(\"  ***  \")\n",
        "  print(\" ***** \")\n",
        "  print(\"*******\")\n",
        "  print(\"   |   \")\n"
      ],
      "metadata": {
        "colab": {
          "base_uri": "https://localhost:8080/"
        },
        "id": "U2edd-WXc5r8",
        "outputId": "ba9a4893-03e7-49cf-d9f4-880fd93fb9b0"
      },
      "execution_count": 52,
      "outputs": [
        {
          "output_type": "stream",
          "name": "stdout",
          "text": [
            "Введите количество елочек: 2\n",
            "   *\n",
            "  ***\n",
            " *****\n",
            "*******\n",
            "   |\n",
            "   *\n",
            "  ***\n",
            " *****\n",
            "*******\n",
            "   |\n"
          ]
        }
      ]
    },
    {
      "cell_type": "code",
      "source": [
        "#@title Задание 2 / шахматы\n",
        "n, m = map(int, input().split())\n",
        "A = [[(i+j+1)%2 for j in range(m)] for i in range (n)]\n",
        "for i in range(n):\n",
        "  for j in range (m):\n",
        "    print(A[i][j], end = ' ')\n",
        "  print()  "
      ],
      "metadata": {
        "colab": {
          "base_uri": "https://localhost:8080/"
        },
        "id": "CkSB70E9duMy",
        "outputId": "362f9df8-84b6-4abb-9ff4-61c96888d53c"
      },
      "execution_count": 35,
      "outputs": [
        {
          "output_type": "stream",
          "name": "stdout",
          "text": [
            "3 4\n",
            "1 0 1 0 \n",
            "0 1 0 1 \n",
            "1 0 1 0 \n"
          ]
        }
      ]
    },
    {
      "cell_type": "code",
      "source": [
        "#@title Задание 3\n",
        "n, m = map(int, input().split())\n",
        "A = [[(i*m+j+1) for j in range(m)] for i in range(n)]\n",
        "for i in range(n):\n",
        "  for j in range (m):\n",
        "    print(A[i][j], end = ' ')\n",
        "  print()  "
      ],
      "metadata": {
        "colab": {
          "base_uri": "https://localhost:8080/"
        },
        "id": "tMtRp8CypnLr",
        "outputId": "c5fac644-9ef3-432a-c215-6477fc651f4d"
      },
      "execution_count": 39,
      "outputs": [
        {
          "output_type": "stream",
          "name": "stdout",
          "text": [
            "4 4\n",
            "1 2 3 4 \n",
            "5 6 7 8 \n",
            "9 10 11 12 \n",
            "13 14 15 16 \n"
          ]
        }
      ]
    },
    {
      "cell_type": "code",
      "source": [
        "#@title Задание 4\n",
        "n, m = map(int, input().split())\n",
        "A = [[(i+j*n) for j in range(m)] for i in range(n)]\n",
        "for i in range(n):\n",
        "  for j in range (m):\n",
        "    print(A[i][j], end = ' ')\n",
        "  print()  "
      ],
      "metadata": {
        "colab": {
          "base_uri": "https://localhost:8080/"
        },
        "id": "qkhSAhsI3kvH",
        "outputId": "7f600af6-f26e-4a93-a9a2-6423a4097407"
      },
      "execution_count": 33,
      "outputs": [
        {
          "output_type": "stream",
          "name": "stdout",
          "text": [
            "5 6\n",
            "0 5 10 15 20 25 \n",
            "1 6 11 16 21 26 \n",
            "2 7 12 17 22 27 \n",
            "3 8 13 18 23 28 \n",
            "4 9 14 19 24 29 \n"
          ]
        }
      ]
    }
  ]
}