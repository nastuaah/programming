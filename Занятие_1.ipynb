{
  "nbformat": 4,
  "nbformat_minor": 0,
  "metadata": {
    "colab": {
      "provenance": [],
      "toc_visible": true,
      "authorship_tag": "ABX9TyMiTIAwL/5tSi0CX3SiP+rF",
      "include_colab_link": true
    },
    "kernelspec": {
      "name": "python3",
      "display_name": "Python 3"
    },
    "language_info": {
      "name": "python"
    }
  },
  "cells": [
    {
      "cell_type": "markdown",
      "metadata": {
        "id": "view-in-github",
        "colab_type": "text"
      },
      "source": [
        "<a href=\"https://colab.research.google.com/github/nastuaah/programming/blob/master/%D0%97%D0%B0%D0%BD%D1%8F%D1%82%D0%B8%D0%B5_1.ipynb\" target=\"_parent\"><img src=\"https://colab.research.google.com/assets/colab-badge.svg\" alt=\"Open In Colab\"/></a>"
      ]
    },
    {
      "cell_type": "markdown",
      "source": [
        "Занятие 1."
      ],
      "metadata": {
        "id": "cHFS8gp01bpD"
      }
    },
    {
      "cell_type": "code",
      "source": [],
      "metadata": {
        "id": "xGHN_vi01-gY"
      },
      "execution_count": null,
      "outputs": []
    },
    {
      "cell_type": "code",
      "source": [
        "#@title Задача 4\n",
        "\n"
      ],
      "metadata": {
        "id": "jSfr50-V1p9T"
      },
      "execution_count": null,
      "outputs": []
    },
    {
      "cell_type": "code",
      "execution_count": null,
      "metadata": {
        "colab": {
          "base_uri": "https://localhost:8080/"
        },
        "id": "PSDrAUAPzQQO",
        "outputId": "2af68f3b-9b2c-4f09-ed22-5588eee0d179"
      },
      "outputs": [
        {
          "output_type": "stream",
          "name": "stdout",
          "text": [
            "Введите количество учащихся в 1 классе:20\n",
            "Введите количество учащихся во 2 классе:21\n",
            "Введите количество учащихся в 3 классе:22\n",
            "Наименьшее количество парт: 32\n"
          ]
        }
      ],
      "source": [
        "#@title Задача 5\n",
        "a1 = int(input(\"Введите количество учащихся в 1 классе:\"))\n",
        "a2 = int(input(\"Введите количество учащихся во 2 классе:\"))\n",
        "a3 = int(input(\"Введите количество учащихся в 3 классе:\"))\n",
        "print (\"Наименьшее количество парт:\", (a1+a2+a3)//2 + (a1+a2+a3)%2)"
      ]
    }
  ]
}