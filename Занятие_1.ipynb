{
  "nbformat": 4,
  "nbformat_minor": 0,
  "metadata": {
    "colab": {
      "provenance": [],
      "toc_visible": true,
      "authorship_tag": "ABX9TyMjlKnCT1MqbBMRtUHboDOV",
      "include_colab_link": true
    },
    "kernelspec": {
      "name": "python3",
      "display_name": "Python 3"
    },
    "language_info": {
      "name": "python"
    }
  },
  "cells": [
    {
      "cell_type": "markdown",
      "metadata": {
        "id": "view-in-github",
        "colab_type": "text"
      },
      "source": [
        "<a href=\"https://colab.research.google.com/github/nastuaah/programming/blob/master/%D0%97%D0%B0%D0%BD%D1%8F%D1%82%D0%B8%D0%B5_1.ipynb\" target=\"_parent\"><img src=\"https://colab.research.google.com/assets/colab-badge.svg\" alt=\"Open In Colab\"/></a>"
      ]
    },
    {
      "cell_type": "markdown",
      "source": [
        "Занятие 1."
      ],
      "metadata": {
        "id": "cHFS8gp01bpD"
      }
    },
    {
      "cell_type": "code",
      "source": [
        "#@title Кошка\n",
        "print ('Кошка сказала \"мяу\"')\n"
      ],
      "metadata": {
        "colab": {
          "base_uri": "https://localhost:8080/"
        },
        "id": "kKef5G8yHr6I",
        "outputId": "ec6d9f64-1e48-42d4-d4a4-5dae66c28336"
      },
      "execution_count": 4,
      "outputs": [
        {
          "output_type": "stream",
          "name": "stdout",
          "text": [
            "Кошка сказала \"мяу\"\n"
          ]
        }
      ]
    },
    {
      "cell_type": "code",
      "source": [
        "#@title Минуты\n",
        "minuts = int(input(\"Введите количество минут:\" ))\n",
        "print (\"В\", minuts, \"минутах - \", minuts*60, \"секунд\")"
      ],
      "metadata": {
        "colab": {
          "base_uri": "https://localhost:8080/"
        },
        "id": "aY-nDGW-Hm8c",
        "outputId": "03686c02-5ebe-4c19-c1b6-e9383a4c0b7c"
      },
      "execution_count": 5,
      "outputs": [
        {
          "output_type": "stream",
          "name": "stdout",
          "text": [
            "Введите количество минут:12\n",
            "В 12 минутах -  720 секунд\n"
          ]
        }
      ]
    },
    {
      "cell_type": "code",
      "source": [
        "#@title Ставка\n",
        "F = int(input(\"Введите требуемое будущее значение:\"))\n",
        "r = float(input(\"Введите годовую процентную ставку:\"))\n",
        "n = int(input(\"Введите количество лет для хранения:\"))\n",
        "P = F/(1+r)**n\n",
        "print (\"Вам потребуется внести:\", P)\n",
        "\n"
      ],
      "metadata": {
        "colab": {
          "base_uri": "https://localhost:8080/"
        },
        "id": "rY5RH5FDHglG",
        "outputId": "a6a57792-785a-4913-b362-ac8a5b5982fe"
      },
      "execution_count": 6,
      "outputs": [
        {
          "output_type": "stream",
          "name": "stdout",
          "text": [
            "Введите требуемое будущее значение:1000000\n",
            "Введите годовую процентную ставку:0.04\n",
            "Введите количество лет для хранения:5\n",
            "Вам потребуется внести: 821927.1067593517\n"
          ]
        }
      ]
    },
    {
      "cell_type": "code",
      "source": [
        "#@title Задача 1\n",
        "number = int(input(\"Print the number:\"))\n",
        "print(\"The next number for the number\", number, \"is\", number+1,\".\")\n",
        "print(\"The previous number before\", number, \"is\", number-1,\".\")\n"
      ],
      "metadata": {
        "colab": {
          "base_uri": "https://localhost:8080/"
        },
        "id": "mTyrAajwHYRy",
        "outputId": "4f65a252-6974-40f1-9cf5-f0c8b40d95d7"
      },
      "execution_count": 7,
      "outputs": [
        {
          "output_type": "stream",
          "name": "stdout",
          "text": [
            "Print the number:173\n",
            "The next number for the number 173 is 174 .\n",
            "The previous number before 173 is 172 .\n"
          ]
        }
      ]
    },
    {
      "cell_type": "code",
      "source": [
        "#@title Задача 2\n",
        "number = int(input(\"Введите целое число:\"))\n",
        "decyatki = number//10%10\n",
        "print(\"Количество десятков\",decyatki)"
      ],
      "metadata": {
        "colab": {
          "base_uri": "https://localhost:8080/"
        },
        "id": "47Qh2xKoHRGc",
        "outputId": "6949a741-f17e-46c4-899e-f9b0a571c360"
      },
      "execution_count": 8,
      "outputs": [
        {
          "output_type": "stream",
          "name": "stdout",
          "text": [
            "Введите целое число:123\n",
            "Количество десятков 2\n"
          ]
        }
      ]
    },
    {
      "cell_type": "code",
      "source": [
        "#@title Задача 3\n",
        "number = int(input(\"Введите целое число:\"))\n",
        "a = number//100\n",
        "b = (number//10)%10\n",
        "c = number%10\n",
        "summa = a + b + c\n",
        "print(\"Сумма цифр числа\",summa)"
      ],
      "metadata": {
        "id": "xGHN_vi01-gY",
        "colab": {
          "base_uri": "https://localhost:8080/"
        },
        "outputId": "22ab49b7-d342-4ea2-f2c7-2377c4193243"
      },
      "execution_count": 9,
      "outputs": [
        {
          "output_type": "stream",
          "name": "stdout",
          "text": [
            "Введите целое число:123\n",
            "Сумма цифр числа 6\n"
          ]
        }
      ]
    },
    {
      "cell_type": "code",
      "source": [
        "#@title Задача 4\n",
        "a = int(input(\"Введите количество рублей:\"))\n",
        "b = int(input(\"Введите количество копеек:\"))\n",
        "k = int(input(\"Введите количество пирогов:\"))\n",
        "a=a*k\n",
        "b=b*k\n",
        "a = a+b//100\n",
        "b=b%100\n",
        "print (\"Стоимость пирогов:\", a, \"рублей\", b, \"копеек\")\n"
      ],
      "metadata": {
        "id": "jSfr50-V1p9T",
        "colab": {
          "base_uri": "https://localhost:8080/"
        },
        "outputId": "e0ff654f-1973-4248-81df-a0da0c802f00"
      },
      "execution_count": 10,
      "outputs": [
        {
          "output_type": "stream",
          "name": "stdout",
          "text": [
            "Введите количество рублей:12\n",
            "Введите количество копеек:45\n",
            "Введите количество пирогов:4\n",
            "Стоимость пирогов: 49 рублей 80 копеек\n"
          ]
        }
      ]
    },
    {
      "cell_type": "code",
      "execution_count": null,
      "metadata": {
        "colab": {
          "base_uri": "https://localhost:8080/"
        },
        "id": "PSDrAUAPzQQO",
        "outputId": "2af68f3b-9b2c-4f09-ed22-5588eee0d179"
      },
      "outputs": [
        {
          "output_type": "stream",
          "name": "stdout",
          "text": [
            "Введите количество учащихся в 1 классе:20\n",
            "Введите количество учащихся во 2 классе:21\n",
            "Введите количество учащихся в 3 классе:22\n",
            "Наименьшее количество парт: 32\n"
          ]
        }
      ],
      "source": [
        "#@title Задача 5\n",
        "a1 = int(input(\"Введите количество учащихся в 1 классе:\"))\n",
        "a2 = int(input(\"Введите количество учащихся во 2 классе:\"))\n",
        "a3 = int(input(\"Введите количество учащихся в 3 классе:\"))\n",
        "print (\"Наименьшее количество парт:\", (a1+a2+a3)//2 + (a1+a2+a3)%2)"
      ]
    }
  ]
}