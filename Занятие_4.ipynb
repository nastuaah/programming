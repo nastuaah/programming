{
  "nbformat": 4,
  "nbformat_minor": 0,
  "metadata": {
    "colab": {
      "provenance": [],
      "authorship_tag": "ABX9TyOxjNGd9tXm1coXCxIO9R23",
      "include_colab_link": true
    },
    "kernelspec": {
      "name": "python3",
      "display_name": "Python 3"
    },
    "language_info": {
      "name": "python"
    }
  },
  "cells": [
    {
      "cell_type": "markdown",
      "metadata": {
        "id": "view-in-github",
        "colab_type": "text"
      },
      "source": [
        "<a href=\"https://colab.research.google.com/github/nastuaah/programming/blob/master/%D0%97%D0%B0%D0%BD%D1%8F%D1%82%D0%B8%D0%B5_4.ipynb\" target=\"_parent\"><img src=\"https://colab.research.google.com/assets/colab-badge.svg\" alt=\"Open In Colab\"/></a>"
      ]
    },
    {
      "cell_type": "code",
      "execution_count": null,
      "metadata": {
        "colab": {
          "base_uri": "https://localhost:8080/"
        },
        "id": "AjMG8fZmcokD",
        "outputId": "ae639546-26bf-468e-86fb-e9bb6f41acb7"
      },
      "outputs": [
        {
          "output_type": "stream",
          "name": "stdout",
          "text": [
            "Введите 1 оценку: 9\n",
            "Введите 2 оценку: 8\n",
            "Введите 3 оценку: 7\n",
            "Введите 4 оценку: 10\n",
            "Введите 5 оценку: 9\n",
            "Средний балл: 8.6\n",
            "Поздравляем с получением высоких баллов\n"
          ]
        }
      ],
      "source": [
        "#@title Оператор if\n",
        "g1=int(input(\"Введите 1 оценку: \"))\n",
        "g2=int(input(\"Введите 2 оценку: \"))\n",
        "g3=int(input(\"Введите 3 оценку: \"))\n",
        "g4=int(input(\"Введите 4 оценку: \"))\n",
        "g5=int(input(\"Введите 5 оценку: \"))\n",
        "averagegrade=(g1+g2+g3+g4+g5)/5\n",
        "print(\"Средний балл:\", averagegrade)\n",
        "if averagegrade>=8:\n",
        "    print(\"Поздравляем с получением высоких баллов\")\n"
      ]
    },
    {
      "cell_type": "code",
      "source": [
        "#@title Оператор if-else\n",
        "number=int(input(\"Введите число отличное от нуля: \"))\n",
        "if number>0:\n",
        "    print(number)\n",
        "else:\n",
        "    print(-number)"
      ],
      "metadata": {
        "colab": {
          "base_uri": "https://localhost:8080/"
        },
        "id": "9gAPzjyNdy3A",
        "outputId": "04b066ed-09fe-425c-a6ca-359d113dbad5"
      },
      "execution_count": null,
      "outputs": [
        {
          "output_type": "stream",
          "name": "stdout",
          "text": [
            "Введите число отличное от нуля: -12\n",
            "12\n"
          ]
        }
      ]
    },
    {
      "cell_type": "code",
      "source": [
        "#@title Банк \n",
        "salary=int(input(\"Введите зарплату: \"))\n",
        "years_on_job=int(input(\"Введите количество отработанных лет: \"))\n",
        "if salary>= 30000:\n",
        "  if years_on_job>=2:\n",
        "    print(\"Ваша ссуда одобрена\")\n",
        "  else:\n",
        "    print(\"Вы должны отработать не менее 2 лет, чтобы получить одобрение\")\n",
        "else:\n",
        "    print(\"Вы должны зарабатывать не менее $30000 в год, чтобы получить одобрение\")"
      ],
      "metadata": {
        "colab": {
          "base_uri": "https://localhost:8080/"
        },
        "id": "Uatf0hGreC9E",
        "outputId": "a47488af-7f85-4335-ad38-106f2c793024"
      },
      "execution_count": null,
      "outputs": [
        {
          "output_type": "stream",
          "name": "stdout",
          "text": [
            "Введите зарплату: 30000\n",
            "Введите количество отработанных лет: 5\n",
            "Ваша ссуда одобрена\n"
          ]
        }
      ]
    },
    {
      "cell_type": "code",
      "source": [
        "#@title Оператор if-elif-else\n",
        "scores=int(input(\"Введите полученные баллы: \"))\n",
        "levelOfKnowledge=\"\"\n",
        "if scores>=90:\n",
        "    levelOfKnowledge=\"A\"\n",
        "elif 80<=scores<=89:\n",
        "    levelOfKnowledge=\"B\"\n",
        "elif 70<=scores<=79:\n",
        "    levelOfKnowledge=\"C\"\n",
        "elif 60<=scores<=69:\n",
        "    levelOfKnowledge=\"D\"\n",
        "else:\n",
        "    levelOfKnowledge=\"F\"\n",
        "print(\"Ваш уровень знаний: \", levelOfKnowledge)    "
      ],
      "metadata": {
        "colab": {
          "base_uri": "https://localhost:8080/"
        },
        "id": "uWQUkwRVhcH1",
        "outputId": "9b416095-700f-481c-e36f-6bd7376e1948"
      },
      "execution_count": null,
      "outputs": [
        {
          "output_type": "stream",
          "name": "stdout",
          "text": [
            "Введите полученные баллы: 87\n",
            "Ваш уровень знаний:  B\n"
          ]
        }
      ]
    },
    {
      "cell_type": "code",
      "source": [
        "n1=int(input(\"Введите 1 число: \"))\n",
        "n2=int(input(\"Введите 2 число: \"))    \n",
        "n3=int(input(\"Введите 3 число: \"))    \n",
        "n4=int(input(\"Введите 4 число: \"))\n",
        "if n1<=n2:\n",
        "  (n1,n2)=(n2,n1)\n",
        "if n3<=n4:\n",
        "  (n3,n4)=(n4,n3)  \n",
        "if n1<=n3:\n",
        "  (n1,n3)=(n3,n1)\n",
        "if n2<=n3:\n",
        "  (n2,n3)=(n3,n2)  \n",
        "if n2<=n4:\n",
        "  (n2,n4)=(n4,n2)  \n",
        "print(n1,n2,n3,n4) "
      ],
      "metadata": {
        "colab": {
          "base_uri": "https://localhost:8080/"
        },
        "id": "WZLmofHGk6h5",
        "outputId": "bc94cb2f-3cbe-479e-ac59-467d8da6f84d"
      },
      "execution_count": 13,
      "outputs": [
        {
          "output_type": "stream",
          "name": "stdout",
          "text": [
            "Введите 1 число: 9\n",
            "Введите 2 число: 4\n",
            "Введите 3 число: 2\n",
            "Введите 4 число: 3\n",
            "9 4 3 2\n"
          ]
        }
      ]
    }
  ]
}