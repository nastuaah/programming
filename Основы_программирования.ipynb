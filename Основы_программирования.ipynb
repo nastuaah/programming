{
  "nbformat": 4,
  "nbformat_minor": 0,
  "metadata": {
    "colab": {
      "provenance": [],
      "toc_visible": true,
      "authorship_tag": "ABX9TyPEcGTLqTzrekcUKYooDCHf",
      "include_colab_link": true
    },
    "kernelspec": {
      "name": "python3",
      "display_name": "Python 3"
    },
    "language_info": {
      "name": "python"
    }
  },
  "cells": [
    {
      "cell_type": "markdown",
      "metadata": {
        "id": "view-in-github",
        "colab_type": "text"
      },
      "source": [
        "<a href=\"https://colab.research.google.com/github/nastuaah/programming/blob/master/%D0%9E%D1%81%D0%BD%D0%BE%D0%B2%D1%8B_%D0%BF%D1%80%D0%BE%D0%B3%D1%80%D0%B0%D0%BC%D0%BC%D0%B8%D1%80%D0%BE%D0%B2%D0%B0%D0%BD%D0%B8%D1%8F.ipynb\" target=\"_parent\"><img src=\"https://colab.research.google.com/assets/colab-badge.svg\" alt=\"Open In Colab\"/></a>"
      ]
    },
    {
      "cell_type": "markdown",
      "source": [
        "# Занятие 1\n"
      ],
      "metadata": {
        "id": "1sj56E7MKJLb"
      }
    },
    {
      "cell_type": "code",
      "source": [
        "#@title кошка\n",
        "print ('Кошка сказала \"мяу\"')\n"
      ],
      "metadata": {
        "id": "LFk51HdHLKiM"
      },
      "execution_count": null,
      "outputs": []
    },
    {
      "cell_type": "code",
      "source": [
        "#@title минуты\n",
        "minuts = int(input(\"Введите количество минут:\" ))\n",
        "print (\"В\", minuts, \"минутах - \", minuts*60, \"секунд\")"
      ],
      "metadata": {
        "id": "eCc9jPVDLSNZ"
      },
      "execution_count": null,
      "outputs": []
    },
    {
      "cell_type": "code",
      "source": [
        "#@title ставка\n",
        "F = int(input(\"Введите требуемое будущее значение:\"))\n",
        "r = float(input(\"Введите годовую процентную ставку:\"))\n",
        "n = int(input(\"Введите количество лет для хранения:\"))\n",
        "P = F/(1+r)**n\n",
        "print (\"Вам потребуется внести:\", P)\n"
      ],
      "metadata": {
        "id": "mdOcVz-dLYXM"
      },
      "execution_count": null,
      "outputs": []
    },
    {
      "cell_type": "code",
      "source": [
        "#@title задача 1\n",
        "number = int(input(\"Print the number:\"))\n",
        "print(\"The next number for the number\", number, \"is\", number+1)\n",
        "print(\"The previous number before\", number, \"is\", number-1)\n"
      ],
      "metadata": {
        "id": "X-7zXW3BLfK1"
      },
      "execution_count": null,
      "outputs": []
    },
    {
      "cell_type": "code",
      "source": [
        "#@title задача 2\n",
        "number = int(input(\"Введите целое число:\"))\n",
        "decyatki = number//10%10\n",
        "print(\"Количество десятков\",decyatki)"
      ],
      "metadata": {
        "id": "ToNBYoWLLjMt"
      },
      "execution_count": null,
      "outputs": []
    },
    {
      "cell_type": "code",
      "source": [
        "#@title задача 3\n",
        "number = int(input(\"Введите целое число:\"))\n",
        "a = number//100\n",
        "b = (number//10)%10\n",
        "c = number%10\n",
        "summa = a + b + c\n",
        "print(\"Сумма цифр числа\",summa)"
      ],
      "metadata": {
        "id": "2gb-QBrjLm1L"
      },
      "execution_count": null,
      "outputs": []
    },
    {
      "cell_type": "code",
      "source": [
        "#@title задача 4\n",
        "a = int(input(\"Введите количество рублей:\"))\n",
        "b = int(input(\"Введите количество копеек:\"))\n",
        "k = int(input(\"Введите количество пирогов:\"))\n",
        "a=a*k\n",
        "b=b*k\n",
        "a = a+b//100\n",
        "b=b%100\n",
        "print (\"Стоимость пирогов:\", a, \"рублей\", b, \"копеек\")"
      ],
      "metadata": {
        "id": "4BdhbHeGLqaf"
      },
      "execution_count": null,
      "outputs": []
    },
    {
      "cell_type": "code",
      "source": [
        "#@title задача 5\n",
        "a1 = int(input(\"Введите количество учащихся в 1 классе:\"))\n",
        "a2 = int(input(\"Введите количество учащихся во 2 классе:\"))\n",
        "a3 = int(input(\"Введите количество учащихся в 3 классе:\"))\n",
        "print (\"Наименьшее количество парт:\", (a1+a2+a3)//2 + (a1+a2+a3)%2)"
      ],
      "metadata": {
        "id": "lwc5FkYJLt9u"
      },
      "execution_count": null,
      "outputs": []
    }
  ]
}