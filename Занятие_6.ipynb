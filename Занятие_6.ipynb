{
  "nbformat": 4,
  "nbformat_minor": 0,
  "metadata": {
    "colab": {
      "provenance": [],
      "authorship_tag": "ABX9TyMNoo040gUazHGLb27haABl",
      "include_colab_link": true
    },
    "kernelspec": {
      "name": "python3",
      "display_name": "Python 3"
    },
    "language_info": {
      "name": "python"
    }
  },
  "cells": [
    {
      "cell_type": "markdown",
      "metadata": {
        "id": "view-in-github",
        "colab_type": "text"
      },
      "source": [
        "<a href=\"https://colab.research.google.com/github/nastuaah/programming/blob/master/%D0%97%D0%B0%D0%BD%D1%8F%D1%82%D0%B8%D0%B5_6.ipynb\" target=\"_parent\"><img src=\"https://colab.research.google.com/assets/colab-badge.svg\" alt=\"Open In Colab\"/></a>"
      ]
    },
    {
      "cell_type": "code",
      "source": [
        "#@title Импорт диска\n",
        "from google.colab import drive\n",
        "drive.mount('/content/gdrive')\n",
        "!ls -l '/content/gdrive/MyDrive/python'"
      ],
      "metadata": {
        "colab": {
          "base_uri": "https://localhost:8080/"
        },
        "id": "157x3EevirHF",
        "outputId": "c8bb72d3-ac59-4858-9a37-e068fcbe1344"
      },
      "execution_count": 2,
      "outputs": [
        {
          "output_type": "stream",
          "name": "stdout",
          "text": [
            "Mounted at /content/gdrive\n",
            "total 15\n",
            "-rw------- 1 root root   244 Apr 28 11:17 28043.txt\n",
            "-rw------- 1 root root 13531 Apr 13 17:08 excel.xlsx\n",
            "-rw------- 1 root root   139 Apr 30 14:53 sales.txt\n"
          ]
        }
      ]
    },
    {
      "cell_type": "code",
      "execution_count": 49,
      "metadata": {
        "id": "llnWHa5WU8DP",
        "colab": {
          "base_uri": "https://localhost:8080/"
        },
        "outputId": "a6d81e2b-7e96-4a73-d536-20b740b423f6"
      },
      "outputs": [
        {
          "output_type": "stream",
          "name": "stdout",
          "text": [
            "Сумма: 458 Наибольший элемент: 112 Наименьший элемент: 35\n"
          ]
        },
        {
          "output_type": "execute_result",
          "data": {
            "text/plain": [
              "<function TextIOWrapper.close()>"
            ]
          },
          "metadata": {},
          "execution_count": 49
        }
      ],
      "source": [
        "#@title Задание 1\n",
        "sales=open('/content/gdrive/MyDrive/python/sales.txt','w')\n",
        "days=[\"Понедельник\", \"Вторник\", \"Среда\", \"Четверг\", \"Пятница\", \"Суббота\", \"Воскресенье\"]\n",
        "money=[35, 46, 89, 112, 52, 37, 87]\n",
        "for index in range(len(days)):\n",
        "    sales.write(str(days[index]) + \" \" + str(money[index]) + \" \" + '\\n' )\n",
        "sales.close()\n",
        "sales=open('/content/gdrive/MyDrive/python/sales.txt','r')\n",
        "lines = sales.readlines()\n",
        "A=[]\n",
        "for line in lines:\n",
        "  line=line.split(' ')\n",
        "  A+=([line[1]])\n",
        "B=[]\n",
        "for i in range (len(A)):\n",
        "  amount=int(A[i])\n",
        "  B.append(amount)\n",
        "summa=0\n",
        "max=0\n",
        "min=10000\n",
        "for j in range (len(B)):\n",
        "  summa+=B[j]\n",
        "  if B[j]>max:\n",
        "    max=B[j]\n",
        "  if B[j]<min:\n",
        "    min=B[j]\n",
        "print(\"Сумма:\", summa, \"Наибольший элемент:\", max, \"Наименьший элемент:\", min)\n",
        "sales.close"
      ]
    },
    {
      "cell_type": "code",
      "source": [
        "#@title Задание 2\n",
        "users=open('/content/gdrive/MyDrive/python/users.txt','w')\n",
        "surname=[\"Щапова\", \"Жулитова\", \"Маслинова\", \"Чумазина\"]\n",
        "name=[\"Майя\", \"Дарья\", \"Софья\", \"Снежанна\"]\n",
        "middleName=[\"Алексеевна\", \"Алексеевна\", \"Петровна\", \"Владимировна\"]\n",
        "year=[2004,2004,2004,2003]\n",
        "city=[\"Нижний Новгород\", \"Нижний Новгород\", \"Дзержинск\", \"Нижний Новгород\"]\n",
        "for index in range(len(surname)):\n",
        "    users.write(str(surname[index]) + \" \" + str(name[index]) + \" \" + str(middleName[index]) + \" \" + str(year[index]) + \" \" + str(city[index]) + \" \"+ '\\n' )\n",
        "users.close()\n",
        "users=open('/content/gdrive/MyDrive/python/users.txt','r')\n",
        "lines=users.readlines()\n",
        "A=[]\n",
        "for line in lines:\n",
        "  line=line.split(' ')\n",
        "  A+=([line[3]])\n",
        "print(A)"
      ],
      "metadata": {
        "id": "j9qponNQVyi6",
        "colab": {
          "base_uri": "https://localhost:8080/"
        },
        "outputId": "868c3e0d-c41c-48b0-b619-6bccd539f261"
      },
      "execution_count": 51,
      "outputs": [
        {
          "output_type": "stream",
          "name": "stdout",
          "text": [
            "['2004', '2004', '2004', '2003']\n"
          ]
        }
      ]
    },
    {
      "cell_type": "code",
      "source": [
        "#@title Задание 3\n",
        "infile=open('/content/gdrive/MyDrive/python/28043.txt','r')\n",
        "l1=infile.readline().rstrip('\\n').split()\n",
        "l2=infile.readline().rstrip('\\n').split()\n",
        "l3=infile.readline().rstrip('\\n').split()\n",
        "A=l1+l2+l3\n",
        "infile.close()\n",
        "max=0\n",
        "for i in range (len(A)):\n",
        "  if len(A[i])>max:\n",
        "    max=len(A[i])\n",
        "print(max, A[i])"
      ],
      "metadata": {
        "colab": {
          "base_uri": "https://localhost:8080/"
        },
        "id": "Wv422G8tV1DE",
        "outputId": "015aba08-73cc-454b-8783-06972d47fd4e"
      },
      "execution_count": 32,
      "outputs": [
        {
          "output_type": "stream",
          "name": "stdout",
          "text": [
            "30 Цццццццццццццццццццццццццццццц\n"
          ]
        }
      ]
    }
  ]
}