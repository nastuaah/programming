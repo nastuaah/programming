{
  "nbformat": 4,
  "nbformat_minor": 0,
  "metadata": {
    "colab": {
      "provenance": [],
      "authorship_tag": "ABX9TyMZc7jjutcj7rHHkxhjLFTU",
      "include_colab_link": true
    },
    "kernelspec": {
      "name": "python3",
      "display_name": "Python 3"
    },
    "language_info": {
      "name": "python"
    }
  },
  "cells": [
    {
      "cell_type": "markdown",
      "metadata": {
        "id": "view-in-github",
        "colab_type": "text"
      },
      "source": [
        "<a href=\"https://colab.research.google.com/github/nastuaah/programming/blob/master/%D0%97%D0%B0%D0%BD%D1%8F%D1%82%D0%B8%D0%B5_8.ipynb\" target=\"_parent\"><img src=\"https://colab.research.google.com/assets/colab-badge.svg\" alt=\"Open In Colab\"/></a>"
      ]
    },
    {
      "cell_type": "code",
      "source": [
        "#@title Задание 1\n",
        "def validate():\n",
        "    while True:\n",
        "        password = input(\"Enter a password: \")\n",
        "        if len(password) < 7:\n",
        "            print(\"Password should have at least 7 letters\")\n",
        "        elif not any(chr.isdigit() for chr in password):\n",
        "            print(\"Password should have at least 1 number\")\n",
        "        elif not any(chr.isupper() for chr in password):\n",
        "            print(\"Password should have at least 1 uppercase letter\")\n",
        "        elif not any(chr.islower() for chr in password):\n",
        "            print(\"Password should have at least 1 lowercase letter\")               \n",
        "        else:\n",
        "            print(\"Your password seems fine\")\n",
        "            break\n",
        "\n",
        "validate()"
      ],
      "metadata": {
        "colab": {
          "base_uri": "https://localhost:8080/"
        },
        "id": "0c7uK_3tbfG2",
        "outputId": "e32f02c1-22b5-4d50-f245-e3f86caa3e21"
      },
      "execution_count": 1,
      "outputs": [
        {
          "output_type": "stream",
          "name": "stdout",
          "text": [
            "Enter a password: 123Njakdd\n",
            "Your password seems fine\n"
          ]
        }
      ]
    },
    {
      "cell_type": "code",
      "source": [
        "#@title Задание 2\n",
        "s = input()\n",
        "#stroka=max([len(s[i:j+1]) for i in range(len(s)) for j in range(len(s)) if s[i] == s[j]])\n",
        "a=[]\n",
        "for i in range(len(s)): \n",
        "  for j in range(len(s)):\n",
        "   if s[i] == s[j]:\n",
        "    if len(s[i:j+1])>len(a):\n",
        "      a.append(s[i:j+1])\n",
        "print(max(a,key=len))\n",
        "\n"
      ],
      "metadata": {
        "colab": {
          "base_uri": "https://localhost:8080/"
        },
        "id": "LwGqJ1Sfsr5b",
        "outputId": "b57b4996-df19-4182-a91e-97e287552aa7"
      },
      "execution_count": 10,
      "outputs": [
        {
          "output_type": "stream",
          "name": "stdout",
          "text": [
            "a\n",
            "a\n"
          ]
        }
      ]
    },
    {
      "cell_type": "code",
      "source": [
        "#@title Задание 3\n",
        "students_height = [int(i) for i in input().split()]\n",
        "height = int(input())\n",
        "pos=0\n",
        "for i in range (len(students_height)+1):\n",
        "  if students_height[i]>200 or students_height[i]<0:\n",
        "    print(\"Рост не должен превышать 200 см или быть отрицательным\")\n",
        "    break\n",
        "  if students_height[i]<students_height[i+1]:\n",
        "    print(\"Введена не невозрастающая последовательность\")  \n",
        "    break\n",
        "  else:    \n",
        "    while pos < len(students_height) and students_height[pos] >= height:\n",
        "      pos += 1\n",
        "    print(pos + 1)\n",
        "    break"
      ],
      "metadata": {
        "colab": {
          "base_uri": "https://localhost:8080/"
        },
        "id": "ghEKL2r0khrI",
        "outputId": "34eba86c-63c7-49a5-df9f-06e774dcc5df"
      },
      "execution_count": 11,
      "outputs": [
        {
          "output_type": "stream",
          "name": "stdout",
          "text": [
            "170 165 150\n",
            "180\n",
            "1\n"
          ]
        }
      ]
    }
  ]
}