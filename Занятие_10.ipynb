{
  "nbformat": 4,
  "nbformat_minor": 0,
  "metadata": {
    "colab": {
      "provenance": [],
      "authorship_tag": "ABX9TyN0P1b3cStc1HJtkON8hojz",
      "include_colab_link": true
    },
    "kernelspec": {
      "name": "python3",
      "display_name": "Python 3"
    },
    "language_info": {
      "name": "python"
    }
  },
  "cells": [
    {
      "cell_type": "markdown",
      "metadata": {
        "id": "view-in-github",
        "colab_type": "text"
      },
      "source": [
        "<a href=\"https://colab.research.google.com/github/nastuaah/programming/blob/master/%D0%97%D0%B0%D0%BD%D1%8F%D1%82%D0%B8%D0%B5_10.ipynb\" target=\"_parent\"><img src=\"https://colab.research.google.com/assets/colab-badge.svg\" alt=\"Open In Colab\"/></a>"
      ]
    },
    {
      "cell_type": "code",
      "source": [
        "!pip install git+https://github.com/openai/whisper.git\n",
        "!sudo apt update && sudo apt install ffmpeg"
      ],
      "metadata": {
        "id": "N4nzqTcWAVtQ"
      },
      "execution_count": null,
      "outputs": []
    },
    {
      "cell_type": "code",
      "source": [
        "!whisper \"Англ1.mp3\"\n",
        "!whisper \"Англ2.mp3\"\n",
        "!whisper \"Англ3.mp3\"\n",
        "!whisper \"Англ4.mp3\"\n",
        "!whisper \"Англ5.mp3\"\n",
        "!whisper \"Рус1.mp3\"\n",
        "!whisper \"Рус2.mp3\"\n",
        "!whisper \"Рус3.mp3\"\n",
        "!whisper \"Рус4.mp3\"\n",
        "!whisper \"Рус5.mp3\""
      ],
      "metadata": {
        "id": "DsOGtpSbAWgB"
      },
      "execution_count": null,
      "outputs": []
    },
    {
      "cell_type": "code",
      "execution_count": 4,
      "metadata": {
        "colab": {
          "base_uri": "https://localhost:8080/"
        },
        "id": "MQFRS4hE_PQM",
        "outputId": "2c533b30-ecbb-4dee-f5da-500569ac5838"
      },
      "outputs": [
        {
          "output_type": "stream",
          "name": "stdout",
          "text": [
            "Your Word Error Rate (WER) percentage is: 4.00%\n",
            "Your Word Error Rate (WER) percentage is: 18.42%\n"
          ]
        }
      ],
      "source": [
        "import sys\n",
        "import os\n",
        "import numpy as np\n",
        "\n",
        "def distance(r, h):\n",
        "\t# r it's the reference\n",
        "\t# h it's the hypothesis\n",
        "\n",
        "\tdist = np.zeros((len(r)+1)*(len(h)+1), dtype=np.uint8).reshape((len(r)+1, len(h)+1))\n",
        "\n",
        "\t# Creating the matrix\n",
        "\tfor i in range(len(r)+1):\n",
        "\t    for j in range(len(h)+1):\n",
        "\t        if i == 0: \n",
        "\t            dist[0][j] = j\n",
        "\t        elif j == 0: \n",
        "\t            dist[i][0] = i\n",
        "\n",
        "\tfor i in range(1, len(r)+1):\n",
        "\t    for j in range(1, len(h)+1):\n",
        "\n",
        "\t        if r[i-1] == h[j-1]:\n",
        "\t            dist[i][j] = dist[i-1][j-1]\n",
        "\t        else:\n",
        "\t            substitution = dist[i-1][j-1] + 1\n",
        "\t            deletion = dist[i-1][j] + 1\n",
        "\t            insertion = dist[i][j-1] + 1\n",
        "\t            dist[i][j] = min(insertion, deletion, substitution)\n",
        "\treturn dist\n",
        "\n",
        "def get_wer(r, h):\n",
        "\t\n",
        "\tmatrix = distance(r, h)\t\n",
        "\n",
        "\tresult = float(matrix[len(r)][len(h)]) / len(r) * 100\n",
        "\tprint(\"Your Word Error Rate (WER) percentage is: \" + str(\"%.2f\" % result) + \"%\")\n",
        "\n",
        "if __name__ == '__main__':\n",
        "    reference_filename = sys.argv[1]\n",
        "    hypothesis_filename = sys.argv[2]\n",
        "    r1 = open('predsE.txt', mode='r', errors='ignore').read().split()\n",
        "    h1 = open('targetEn.txt', mode='r', errors='ignore').read().split()\n",
        "    r2 = open('predsR.txt', mode='r', errors='ignore').read().split()\n",
        "    h2 = open('targetRu.txt', mode='r', errors='ignore').read().split()   \n",
        "    get_wer(r1, h1)\n",
        "    get_wer(r2, h2)"
      ]
    }
  ]
}