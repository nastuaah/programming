{
  "nbformat": 4,
  "nbformat_minor": 0,
  "metadata": {
    "colab": {
      "provenance": [],
      "authorship_tag": "ABX9TyPqXt6Wzyw3QfN91B4rDzPD",
      "include_colab_link": true
    },
    "kernelspec": {
      "name": "python3",
      "display_name": "Python 3"
    },
    "language_info": {
      "name": "python"
    }
  },
  "cells": [
    {
      "cell_type": "markdown",
      "metadata": {
        "id": "view-in-github",
        "colab_type": "text"
      },
      "source": [
        "<a href=\"https://colab.research.google.com/github/nastuaah/programming/blob/master/%D0%97%D0%B0%D0%BD%D1%8F%D1%82%D0%B8%D0%B5_9.ipynb\" target=\"_parent\"><img src=\"https://colab.research.google.com/assets/colab-badge.svg\" alt=\"Open In Colab\"/></a>"
      ]
    },
    {
      "cell_type": "code",
      "execution_count": 7,
      "metadata": {
        "colab": {
          "base_uri": "https://localhost:8080/"
        },
        "id": "j9YB4NCCNKOt",
        "outputId": "886d5b78-4b0b-4146-8907-b53543245d78"
      },
      "outputs": [
        {
          "output_type": "stream",
          "name": "stdout",
          "text": [
            "6\n",
            " \n",
            "cupcake   кекс\n",
            "fatigue   усталость\n",
            "cat   кот\n",
            "dog   собака\n",
            "fish   рыба\n",
            "sadness   грусть\n",
            " \n",
            "cupcake   кекс\n",
            "fatigue   усталость\n",
            "cat   кот\n",
            "dog   собака\n",
            "fish   рыба\n",
            "sadness   грусть\n",
            "summer   лето\n",
            "winter   зима\n",
            " \n",
            "cupcake   кекс\n",
            "fatigue   усталость\n",
            "cat   кот\n",
            "dog   собака\n",
            "fish   рыба\n",
            "sadness   грусть\n",
            "winter   зима\n",
            " \n",
            "кекс   cupcake\n",
            "усталость   fatigue\n",
            "кот   cat\n",
            "собака   dog\n",
            "рыба   fish\n",
            "грусть   sadness\n",
            "зима   winter\n"
          ]
        }
      ],
      "source": [
        "#@title Задание 1\n",
        "dictionary={}\n",
        "dictionary={'cupcake':'кекс','fatigue':'усталость', 'cat':'кот','dog':'собака','fish':'рыба', 'sadness':'грусть'}\n",
        "print(len(dictionary))\n",
        "print(' ')\n",
        "for k,i in dictionary.items():\n",
        "  print(k,' ',i)\n",
        "print(' ')\n",
        "dictionary['summer']='лето'\n",
        "dictionary['winter']='зима'\n",
        "for k,i in dictionary.items():\n",
        "  print(k,' ',i)\n",
        "print(' ')\n",
        "dictionary.pop('summer','лето')\n",
        "for k,i in dictionary.items():\n",
        "  print(k,' ',i)\n",
        "print(' ')\n",
        "inverse_dictionary={}\n",
        "for k,i in dictionary.items():\n",
        "    inverse_dictionary[i]=k\n",
        "for k,i in inverse_dictionary.items():\n",
        "  print(k,' ',i)"
      ]
    },
    {
      "cell_type": "code",
      "source": [
        "#@title Задание 2\n",
        "def my_power(a, n):\n",
        "    if (n == 1):\n",
        "        return (a)\n",
        "    if (n != 1):\n",
        "        return (a * my_power(a, n - 1))\n",
        "a = int(input(\"Введите число: \"))\n",
        "n = int(input(\"Введите его степень: \"))\n",
        "print(\"Результат:\", my_power(a, n))"
      ],
      "metadata": {
        "colab": {
          "base_uri": "https://localhost:8080/"
        },
        "id": "1g6SIH2BSIzk",
        "outputId": "5fe85158-533a-4287-f370-da4c0e11a9b4"
      },
      "execution_count": 9,
      "outputs": [
        {
          "output_type": "stream",
          "name": "stdout",
          "text": [
            "Введите число: 2\n",
            "Введите его степень: 3\n",
            "Результат: 8\n"
          ]
        }
      ]
    },
    {
      "cell_type": "code",
      "source": [
        "#@title Задание 3\n",
        "def stroka(s):\n",
        "    if len(s) == 1 or len(s) == 2:\n",
        "        return s\n",
        "    return s[0] + '(' + stroka(s[1:-1]) + ')' + s[-1]\n",
        "print(stroka(input()))"
      ],
      "metadata": {
        "colab": {
          "base_uri": "https://localhost:8080/"
        },
        "id": "CMf1F0mfS74W",
        "outputId": "c87761db-aea5-4abb-ff0f-9ea459a32ec4"
      },
      "execution_count": 5,
      "outputs": [
        {
          "output_type": "stream",
          "name": "stdout",
          "text": [
            "example\n",
            "e(x(a(m)p)l)e\n"
          ]
        }
      ]
    },
    {
      "cell_type": "code",
      "source": [
        "#@title Задание 4\n",
        "from itertools import permutations\n",
        "N=int(input())\n",
        "alphabet = \"\"\n",
        "for i in range(1, N+1):\n",
        "  alphabet += str(i)\n",
        "for i in permutations(alphabet, N):\n",
        "  print(''.join(i))"
      ],
      "metadata": {
        "colab": {
          "base_uri": "https://localhost:8080/"
        },
        "id": "89qtsplbf-Zf",
        "outputId": "6be52e95-e2c3-4bac-e7b1-626f1c0c0ecd"
      },
      "execution_count": 9,
      "outputs": [
        {
          "output_type": "stream",
          "name": "stdout",
          "text": [
            "3\n",
            "123\n",
            "132\n",
            "213\n",
            "231\n",
            "312\n",
            "321\n"
          ]
        }
      ]
    }
  ]
}